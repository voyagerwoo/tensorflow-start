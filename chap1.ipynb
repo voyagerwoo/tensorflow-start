{
 "cells": [
  {
   "cell_type": "code",
   "execution_count": 2,
   "metadata": {},
   "outputs": [
    {
     "name": "stdout",
     "output_type": "stream",
     "text": [
      "9.0\n"
     ]
    }
   ],
   "source": [
    "import tensorflow as tf\n",
    "\n",
    "a = tf.placeholder('float')\n",
    "b = tf.placeholder('float')\n",
    "\n",
    "y = tf.multiply(a,b)\n",
    "\n",
    "sess = tf.Session()\n",
    "\n",
    "print(sess.run(y, feed_dict={a:3, b:3}))\n",
    "\n",
    "\"\"\"\n",
    "- tensor란 동적 크기를 갖는 다차원 데이터 배열\n",
    "- 심벌릭 표현으로 된 수식을 계산하기 위해서 session 생성, session.run() 하고 나서야 실행\n",
    "- 즉, 전체 알고리즘을 먼저 기술하고 그 다음 세션을 생성하여 연산을 실행\n",
    "\"\"\"\n"
   ]
  },
  {
   "cell_type": "code",
   "execution_count": null,
   "metadata": {
    "collapsed": true
   },
   "outputs": [],
   "source": []
  }
 ],
 "metadata": {
  "kernelspec": {
   "display_name": "Python 3",
   "language": "python",
   "name": "python3"
  },
  "language_info": {
   "codemirror_mode": {
    "name": "ipython",
    "version": 3
   },
   "file_extension": ".py",
   "mimetype": "text/x-python",
   "name": "python",
   "nbconvert_exporter": "python",
   "pygments_lexer": "ipython3",
   "version": "3.6.2"
  }
 },
 "nbformat": 4,
 "nbformat_minor": 2
}
